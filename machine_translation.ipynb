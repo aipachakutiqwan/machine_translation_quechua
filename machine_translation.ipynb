{
  "nbformat": 4,
  "nbformat_minor": 0,
  "metadata": {
    "kernelspec": {
      "display_name": "Python 3",
      "language": "python",
      "name": "python3"
    },
    "language_info": {
      "codemirror_mode": {
        "name": "ipython",
        "version": 3
      },
      "file_extension": ".py",
      "mimetype": "text/x-python",
      "name": "python",
      "nbconvert_exporter": "python",
      "pygments_lexer": "ipython3",
      "version": "3.7.4"
    },
    "colab": {
      "name": "machine_translation.ipynb",
      "provenance": [],
      "toc_visible": true,
      "include_colab_link": true
    },
    "accelerator": "GPU"
  },
  "cells": [
    {
      "cell_type": "markdown",
      "metadata": {
        "id": "view-in-github",
        "colab_type": "text"
      },
      "source": [
        "<a href=\"https://colab.research.google.com/github/florenciopaucar/machine_translation_quechua/blob/dev/machine_translation.ipynb\" target=\"_parent\"><img src=\"https://colab.research.google.com/assets/colab-badge.svg\" alt=\"Open In Colab\"/></a>"
      ]
    },
    {
      "cell_type": "markdown",
      "metadata": {
        "collapsed": true,
        "id": "oc5aYxf3Akjr"
      },
      "source": [
        "## Artificial Machine Translation for Quechua Language\n",
        "\n",
        "## Introduction\n",
        "In this notebook, you will build a deep neural network that functions as part of an end-to-end machine translation pipeline. Your completed pipeline will accept English text as input and return the French translation.\n",
        "\n",
        "- **Preprocess** - You'll convert text to sequence of integers.\n",
        "- **Models** Create models which accepts a sequence of integers as input and returns a probability distribution over possible translations. After learning about the basic types of neural networks that are often used for machine translation, you will engage in your own investigations, to design your own model!\n",
        "- **Prediction** Run the model on English text."
      ]
    },
    {
      "cell_type": "markdown",
      "metadata": {
        "id": "-SG9yshsY_Nw"
      },
      "source": [
        "##Mount repository from Google Drive"
      ]
    },
    {
      "cell_type": "code",
      "metadata": {
        "colab": {
          "base_uri": "https://localhost:8080/"
        },
        "id": "vCvNuYn8ApJ6",
        "outputId": "c3a255f4-921e-47ab-c2f8-2959eb951e90"
      },
      "source": [
        "from google.colab import drive\n",
        "drive.mount('/content/drive')"
      ],
      "execution_count": 1,
      "outputs": [
        {
          "output_type": "stream",
          "text": [
            "Mounted at /content/drive\n"
          ],
          "name": "stdout"
        }
      ]
    },
    {
      "cell_type": "markdown",
      "metadata": {
        "id": "-ugA0aHJZRlA"
      },
      "source": [
        "## Checkout and pull repository"
      ]
    },
    {
      "cell_type": "code",
      "metadata": {
        "colab": {
          "base_uri": "https://localhost:8080/"
        },
        "id": "RheIim99YDEy",
        "outputId": "df24ebfd-9f9e-4053-b199-f23e76275338"
      },
      "source": [
        "%%bash \n",
        "cd drive/MyDrive/QuechuaProject/\n",
        "#git clone https://github.com/florenciopaucar/machine_translation_quechua.git\n",
        "cd machine_translation_quechua\n",
        "git checkout dev\n",
        "git status\n",
        "git pull\n",
        "pwd\n",
        "\n"
      ],
      "execution_count": 2,
      "outputs": [
        {
          "output_type": "stream",
          "text": [
            "M\t__pycache__/helper.cpython-36.pyc\n",
            "M\t__pycache__/project_tests.cpython-36.pyc\n",
            "Your branch is up to date with 'origin/dev'.\n",
            "On branch dev\n",
            "Your branch is up to date with 'origin/dev'.\n",
            "\n",
            "Changes not staged for commit:\n",
            "  (use \"git add <file>...\" to update what will be committed)\n",
            "  (use \"git checkout -- <file>...\" to discard changes in working directory)\n",
            "\n",
            "\tmodified:   __pycache__/helper.cpython-36.pyc\n",
            "\tmodified:   __pycache__/project_tests.cpython-36.pyc\n",
            "\n",
            "no changes added to commit (use \"git add\" and/or \"git commit -a\")\n",
            "Already up to date.\n",
            "/content/drive/MyDrive/QuechuaProject/machine_translation_quechua\n"
          ],
          "name": "stdout"
        },
        {
          "output_type": "stream",
          "text": [
            "Already on 'dev'\n"
          ],
          "name": "stderr"
        }
      ]
    },
    {
      "cell_type": "markdown",
      "metadata": {
        "id": "Tk05M60NX1SD"
      },
      "source": [
        ""
      ]
    },
    {
      "cell_type": "code",
      "metadata": {
        "id": "IJgW8d7VAkjw"
      },
      "source": [
        "#%load_ext autoreload\n",
        "#%aimport helper, tests\n",
        "#%autoreload 1"
      ],
      "execution_count": 3,
      "outputs": []
    },
    {
      "cell_type": "code",
      "metadata": {
        "id": "eOskPICeAkjw"
      },
      "source": [
        "import collections\n",
        "import numpy as np\n",
        "from keras.preprocessing.text import Tokenizer\n",
        "from keras.preprocessing.sequence import pad_sequences\n",
        "from keras.models import Model\n",
        "from keras.layers import GRU, Input, Dense, TimeDistributed, Activation, RepeatVector, Bidirectional\n",
        "from keras.layers.embeddings import Embedding\n",
        "from keras.optimizers import Adam\n",
        "from keras.losses import sparse_categorical_crossentropy\n",
        "import drive.MyDrive.QuechuaProject.machine_translation_quechua.project_tests as tests\n",
        "import drive.MyDrive.QuechuaProject.machine_translation_quechua.helper as helper\n"
      ],
      "execution_count": 7,
      "outputs": []
    },
    {
      "cell_type": "markdown",
      "metadata": {
        "id": "kIp4zaIBAkjx"
      },
      "source": [
        "### Verify access to the GPU\n",
        "The following test applies only if you expect to be using a GPU, e.g., while running in a Udacity Workspace or using an AWS instance with GPU support. Run the next cell, and verify that the device_type is \"GPU\".\n",
        "- If the device is not GPU & you are running from a Udacity Workspace, then save your workspace with the icon at the top, then click \"enable\" at the bottom of the workspace.\n",
        "- If the device is not GPU & you are running from an AWS instance, then refer to the cloud computing instructions in the classroom to verify your setup steps."
      ]
    },
    {
      "cell_type": "code",
      "metadata": {
        "id": "4WYop63AAkjx",
        "outputId": "d0567e2b-9793-4e9d-81fd-23a6c9b29692",
        "colab": {
          "base_uri": "https://localhost:8080/"
        }
      },
      "source": [
        "from tensorflow.python.client import device_lib\n",
        "print(device_lib.list_local_devices())"
      ],
      "execution_count": 8,
      "outputs": [
        {
          "output_type": "stream",
          "text": [
            "[name: \"/device:CPU:0\"\n",
            "device_type: \"CPU\"\n",
            "memory_limit: 268435456\n",
            "locality {\n",
            "}\n",
            "incarnation: 17642631246234928306\n",
            ", name: \"/device:GPU:0\"\n",
            "device_type: \"GPU\"\n",
            "memory_limit: 14638920512\n",
            "locality {\n",
            "  bus_id: 1\n",
            "  links {\n",
            "  }\n",
            "}\n",
            "incarnation: 3896114419218729059\n",
            "physical_device_desc: \"device: 0, name: Tesla T4, pci bus id: 0000:00:04.0, compute capability: 7.5\"\n",
            "]\n"
          ],
          "name": "stdout"
        }
      ]
    },
    {
      "cell_type": "markdown",
      "metadata": {
        "id": "IhDY0mlSAkjy"
      },
      "source": [
        "## Dataset\n",
        "We begin by investigating the dataset that will be used to train and evaluate your pipeline.  The most common datasets used for machine translation are from [WMT](http://www.statmt.org/).  However, that will take a long time to train a neural network on.  We'll be using a dataset we created for this project that contains a small vocabulary.  You'll be able to train your model in a reasonable time with this dataset.\n",
        "### Load Data\n",
        "The data is located in `data/small_vocab_en` and `data/small_vocab_fr`. The `small_vocab_en` file contains English sentences with their French translations in the `small_vocab_fr` file. Load the English and French data from these files from running the cell below."
      ]
    },
    {
      "cell_type": "code",
      "metadata": {
        "id": "11-rJSQxAkjy",
        "outputId": "9d476958-4827-40a0-ba72-23db634723a7",
        "colab": {
          "base_uri": "https://localhost:8080/"
        }
      },
      "source": [
        "# Load English data\n",
        "english_sentences = helper.load_data('drive/MyDrive/QuechuaProject/machine_translation_quechua/data/small_vocab_en')\n",
        "# Load French data\n",
        "french_sentences = helper.load_data('drive/MyDrive/QuechuaProject/machine_translation_quechua/data/small_vocab_fr')\n",
        "print('Dataset Loaded')"
      ],
      "execution_count": 9,
      "outputs": [
        {
          "output_type": "stream",
          "text": [
            "Dataset Loaded\n"
          ],
          "name": "stdout"
        }
      ]
    },
    {
      "cell_type": "markdown",
      "metadata": {
        "id": "IGbDWETgAkjy"
      },
      "source": [
        "### Files\n",
        "Each line in `small_vocab_en` contains an English sentence with the respective translation in each line of `small_vocab_fr`.  View the first two lines from each file."
      ]
    },
    {
      "cell_type": "code",
      "metadata": {
        "id": "pbZucdQYAkjy",
        "outputId": "acc6e714-67ea-47e3-8184-5c916b5e6ebb",
        "colab": {
          "base_uri": "https://localhost:8080/"
        }
      },
      "source": [
        "for sample_i in range(2):\n",
        "    print('small_vocab_en Line {}:  {}'.format(sample_i + 1, english_sentences[sample_i]))\n",
        "    print('small_vocab_fr Line {}:  {}'.format(sample_i + 1, french_sentences[sample_i]))"
      ],
      "execution_count": 10,
      "outputs": [
        {
          "output_type": "stream",
          "text": [
            "small_vocab_en Line 1:  new jersey is sometimes quiet during autumn , and it is snowy in april .\n",
            "small_vocab_fr Line 1:  new jersey est parfois calme pendant l' automne , et il est neigeux en avril .\n",
            "small_vocab_en Line 2:  the united states is usually chilly during july , and it is usually freezing in november .\n",
            "small_vocab_fr Line 2:  les états-unis est généralement froid en juillet , et il gèle habituellement en novembre .\n"
          ],
          "name": "stdout"
        }
      ]
    },
    {
      "cell_type": "markdown",
      "metadata": {
        "id": "swG_2hc7Akjz"
      },
      "source": [
        "From looking at the sentences, you can see they have been preprocessed already.  The puncuations have been delimited using spaces. All the text have been converted to lowercase.  This should save you some time, but the text requires more preprocessing.\n",
        "### Vocabulary\n",
        "The complexity of the problem is determined by the complexity of the vocabulary.  A more complex vocabulary is a more complex problem.  Let's look at the complexity of the dataset we'll be working with."
      ]
    },
    {
      "cell_type": "code",
      "metadata": {
        "id": "dLgr7HHIAkjz",
        "outputId": "3996408d-48b4-415c-9897-d33a23dfadde",
        "colab": {
          "base_uri": "https://localhost:8080/"
        }
      },
      "source": [
        "english_words_counter = collections.Counter([word for sentence in english_sentences for word in sentence.split()])\n",
        "french_words_counter = collections.Counter([word for sentence in french_sentences for word in sentence.split()])\n",
        "\n",
        "print('{} English words.'.format(len([word for sentence in english_sentences for word in sentence.split()])))\n",
        "print('{} unique English words.'.format(len(english_words_counter)))\n",
        "print('10 Most common words in the English dataset:')\n",
        "print('\"' + '\" \"'.join(list(zip(*english_words_counter.most_common(10)))[0]) + '\"')\n",
        "print()\n",
        "print('{} French words.'.format(len([word for sentence in french_sentences for word in sentence.split()])))\n",
        "print('{} unique French words.'.format(len(french_words_counter)))\n",
        "print('10 Most common words in the French dataset:')\n",
        "print('\"' + '\" \"'.join(list(zip(*french_words_counter.most_common(10)))[0]) + '\"')"
      ],
      "execution_count": 11,
      "outputs": [
        {
          "output_type": "stream",
          "text": [
            "1823250 English words.\n",
            "227 unique English words.\n",
            "10 Most common words in the English dataset:\n",
            "\"is\" \",\" \".\" \"in\" \"it\" \"during\" \"the\" \"but\" \"and\" \"sometimes\"\n",
            "\n",
            "1961295 French words.\n",
            "355 unique French words.\n",
            "10 Most common words in the French dataset:\n",
            "\"est\" \".\" \",\" \"en\" \"il\" \"les\" \"mais\" \"et\" \"la\" \"parfois\"\n"
          ],
          "name": "stdout"
        }
      ]
    },
    {
      "cell_type": "markdown",
      "metadata": {
        "id": "7xXUMx0xAkjz"
      },
      "source": [
        "For comparison, _Alice's Adventures in Wonderland_ contains 2,766 unique words of a total of 15,500 words.\n",
        "## Preprocess\n",
        "For this project, you won't use text data as input to your model. Instead, you'll convert the text into sequences of integers using the following preprocess methods:\n",
        "1. Tokenize the words into ids\n",
        "2. Add padding to make all the sequences the same length.\n",
        "\n",
        "Time to start preprocessing the data...\n",
        "### Tokenize (IMPLEMENTATION)\n",
        "For a neural network to predict on text data, it first has to be turned into data it can understand. Text data like \"dog\" is a sequence of ASCII character encodings.  Since a neural network is a series of multiplication and addition operations, the input data needs to be number(s).\n",
        "\n",
        "We can turn each character into a number or each word into a number.  These are called character and word ids, respectively.  Character ids are used for character level models that generate text predictions for each character.  A word level model uses word ids that generate text predictions for each word.  Word level models tend to learn better, since they are lower in complexity, so we'll use those.\n",
        "\n",
        "Turn each sentence into a sequence of words ids using Keras's [`Tokenizer`](https://keras.io/preprocessing/text/#tokenizer) function. Use this function to tokenize `english_sentences` and `french_sentences` in the cell below.\n",
        "\n",
        "Running the cell will run `tokenize` on sample data and show output for debugging."
      ]
    },
    {
      "cell_type": "code",
      "metadata": {
        "id": "RikbFenlAkj0",
        "outputId": "6d634da5-1d3f-481e-be74-957a897014a6",
        "colab": {
          "base_uri": "https://localhost:8080/"
        }
      },
      "source": [
        "def tokenize(x):\n",
        "    \"\"\"\n",
        "    Tokenize x\n",
        "    :param x: List of sentences/strings to be tokenized\n",
        "    :return: Tuple of (tokenized x data, tokenizer used to tokenize x)\n",
        "    \"\"\"\n",
        "    # TODO: Implement\n",
        "    x_tk = Tokenizer(char_level=False)\n",
        "    x_tk.fit_on_texts(x)\n",
        "    return  x_tk.texts_to_sequences(x), x_tk\n",
        "\n",
        "tests.test_tokenize(tokenize)\n",
        "\n",
        "# Tokenize Example output\n",
        "text_sentences = [\n",
        "    'The quick brown fox jumps over the lazy dog .',\n",
        "    'By Jove , my quick study of lexicography won a prize .',\n",
        "    'This is a short sentence .']\n",
        "text_tokenized, text_tokenizer = tokenize(text_sentences)\n",
        "print(text_tokenizer.word_index)\n",
        "print()\n",
        "for sample_i, (sent, token_sent) in enumerate(zip(text_sentences, text_tokenized)):\n",
        "    print('Sequence {} in x'.format(sample_i + 1))\n",
        "    print('  Input:  {}'.format(sent))\n",
        "    print('  Output: {}'.format(token_sent))"
      ],
      "execution_count": 12,
      "outputs": [
        {
          "output_type": "stream",
          "text": [
            "{'the': 1, 'quick': 2, 'a': 3, 'brown': 4, 'fox': 5, 'jumps': 6, 'over': 7, 'lazy': 8, 'dog': 9, 'by': 10, 'jove': 11, 'my': 12, 'study': 13, 'of': 14, 'lexicography': 15, 'won': 16, 'prize': 17, 'this': 18, 'is': 19, 'short': 20, 'sentence': 21}\n",
            "\n",
            "Sequence 1 in x\n",
            "  Input:  The quick brown fox jumps over the lazy dog .\n",
            "  Output: [1, 2, 4, 5, 6, 7, 1, 8, 9]\n",
            "Sequence 2 in x\n",
            "  Input:  By Jove , my quick study of lexicography won a prize .\n",
            "  Output: [10, 11, 12, 2, 13, 14, 15, 16, 3, 17]\n",
            "Sequence 3 in x\n",
            "  Input:  This is a short sentence .\n",
            "  Output: [18, 19, 3, 20, 21]\n"
          ],
          "name": "stdout"
        }
      ]
    },
    {
      "cell_type": "markdown",
      "metadata": {
        "id": "5oqQsPSJAkj0"
      },
      "source": [
        "### Padding (IMPLEMENTATION)\n",
        "When batching the sequence of word ids together, each sequence needs to be the same length.  Since sentences are dynamic in length, we can add padding to the end of the sequences to make them the same length.\n",
        "\n",
        "Make sure all the English sequences have the same length and all the French sequences have the same length by adding padding to the **end** of each sequence using Keras's [`pad_sequences`](https://keras.io/preprocessing/sequence/#pad_sequences) function."
      ]
    },
    {
      "cell_type": "code",
      "metadata": {
        "id": "9pIz5vCDAkj0",
        "outputId": "9fbee465-4f4d-46c9-ce40-89b5a36fd27e",
        "colab": {
          "base_uri": "https://localhost:8080/"
        }
      },
      "source": [
        "def pad(x, length=None):\n",
        "    \"\"\"\n",
        "    Pad x\n",
        "    :param x: List of sequences.\n",
        "    :param length: Length to pad the sequence to.  If None, use length of longest sequence in x.\n",
        "    :return: Padded numpy array of sequences\n",
        "    \"\"\"\n",
        "    # TODO: Implement\n",
        "    if length is None:\n",
        "        length = max([len(sentence) for sentence in x])\n",
        "    return pad_sequences(x, maxlen=length, padding='post')\n",
        "\n",
        "tests.test_pad(pad)\n",
        "\n",
        "# Pad Tokenized output\n",
        "test_pad = pad(text_tokenized)\n",
        "for sample_i, (token_sent, pad_sent) in enumerate(zip(text_tokenized, test_pad)):\n",
        "    print('Sequence {} in x'.format(sample_i + 1))\n",
        "    print('  Input:  {}'.format(np.array(token_sent)))\n",
        "    print('  Output: {}'.format(pad_sent))"
      ],
      "execution_count": 13,
      "outputs": [
        {
          "output_type": "stream",
          "text": [
            "Sequence 1 in x\n",
            "  Input:  [1 2 4 5 6 7 1 8 9]\n",
            "  Output: [1 2 4 5 6 7 1 8 9 0]\n",
            "Sequence 2 in x\n",
            "  Input:  [10 11 12  2 13 14 15 16  3 17]\n",
            "  Output: [10 11 12  2 13 14 15 16  3 17]\n",
            "Sequence 3 in x\n",
            "  Input:  [18 19  3 20 21]\n",
            "  Output: [18 19  3 20 21  0  0  0  0  0]\n"
          ],
          "name": "stdout"
        }
      ]
    },
    {
      "cell_type": "markdown",
      "metadata": {
        "id": "mMWeiZIbAkj1"
      },
      "source": [
        "### Preprocess Pipeline\n",
        "Your focus for this project is to build neural network architecture, so we won't ask you to create a preprocess pipeline.  Instead, we've provided you with the implementation of the `preprocess` function."
      ]
    },
    {
      "cell_type": "code",
      "metadata": {
        "id": "fzrcGWfGAkj1",
        "outputId": "c52bd615-8477-48eb-9275-877ec4f7bbfc",
        "colab": {
          "base_uri": "https://localhost:8080/"
        }
      },
      "source": [
        "def preprocess(x, y):\n",
        "    \"\"\"\n",
        "    Preprocess x and y\n",
        "    :param x: Feature List of sentences\n",
        "    :param y: Label List of sentences\n",
        "    :return: Tuple of (Preprocessed x, Preprocessed y, x tokenizer, y tokenizer)\n",
        "    \"\"\"\n",
        "    preprocess_x, x_tk = tokenize(x)\n",
        "    preprocess_y, y_tk = tokenize(y)\n",
        "\n",
        "    preprocess_x = pad(preprocess_x)\n",
        "    preprocess_y = pad(preprocess_y)\n",
        "\n",
        "    # Keras's sparse_categorical_crossentropy function requires the labels to be in 3 dimensions\n",
        "    preprocess_y = preprocess_y.reshape(*preprocess_y.shape, 1)\n",
        "\n",
        "    return preprocess_x, preprocess_y, x_tk, y_tk\n",
        "\n",
        "preproc_english_sentences, preproc_french_sentences, english_tokenizer, french_tokenizer =\\\n",
        "    preprocess(english_sentences, french_sentences)\n",
        "    \n",
        "max_english_sequence_length = preproc_english_sentences.shape[1]\n",
        "max_french_sequence_length = preproc_french_sentences.shape[1]\n",
        "english_vocab_size = len(english_tokenizer.word_index)\n",
        "french_vocab_size = len(french_tokenizer.word_index)\n",
        "\n",
        "print('Data Preprocessed')\n",
        "print(\"Max English sentence length:\", max_english_sequence_length)\n",
        "print(\"Max French sentence length:\", max_french_sequence_length)\n",
        "print(\"English vocabulary size:\", english_vocab_size)\n",
        "print(\"French vocabulary size:\", french_vocab_size)"
      ],
      "execution_count": 14,
      "outputs": [
        {
          "output_type": "stream",
          "text": [
            "Data Preprocessed\n",
            "Max English sentence length: 15\n",
            "Max French sentence length: 21\n",
            "English vocabulary size: 199\n",
            "French vocabulary size: 344\n"
          ],
          "name": "stdout"
        }
      ]
    },
    {
      "cell_type": "markdown",
      "metadata": {
        "id": "nLE4aglrAkj1"
      },
      "source": [
        "## Models\n",
        "In this section, you will experiment with various neural network architectures.\n",
        "You will begin by training four relatively simple architectures.\n",
        "- Model 1 is a simple RNN\n",
        "- Model 2 is a RNN with Embedding\n",
        "- Model 3 is a Bidirectional RNN\n",
        "- Model 4 is an optional Encoder-Decoder RNN\n",
        "\n",
        "After experimenting with the four simple architectures, you will construct a deeper architecture that is designed to outperform all four models.\n",
        "### Ids Back to Text\n",
        "The neural network will be translating the input to words ids, which isn't the final form we want.  We want the French translation.  The function `logits_to_text` will bridge the gab between the logits from the neural network to the French translation.  You'll be using this function to better understand the output of the neural network."
      ]
    },
    {
      "cell_type": "code",
      "metadata": {
        "id": "VaOJi2X1Akj2",
        "outputId": "8d6e4652-2c2a-410a-cdba-69b82fb6b257",
        "colab": {
          "base_uri": "https://localhost:8080/"
        }
      },
      "source": [
        "def logits_to_text(logits, tokenizer):\n",
        "    \"\"\"\n",
        "    Turn logits from a neural network into text using the tokenizer\n",
        "    :param logits: Logits from a neural network\n",
        "    :param tokenizer: Keras Tokenizer fit on the labels\n",
        "    :return: String that represents the text of the logits\n",
        "    \"\"\"\n",
        "    index_to_words = {id: word for word, id in tokenizer.word_index.items()}\n",
        "    index_to_words[0] = '<PAD>'\n",
        "\n",
        "    return ' '.join([index_to_words[prediction] for prediction in np.argmax(logits, 1)])\n",
        "\n",
        "print('`logits_to_text` function loaded.')"
      ],
      "execution_count": 15,
      "outputs": [
        {
          "output_type": "stream",
          "text": [
            "`logits_to_text` function loaded.\n"
          ],
          "name": "stdout"
        }
      ]
    },
    {
      "cell_type": "markdown",
      "metadata": {
        "id": "j3d43nBqAkj2"
      },
      "source": [
        "### Model 1: RNN (IMPLEMENTATION)\n",
        "![RNN](https://github.com/florenciopaucar/bidirectional-rnn-machine-translation/blob/master/images/rnn.png?raw=1)\n",
        "A basic RNN model is a good baseline for sequence data.  In this model, you'll build a RNN that translates English to French."
      ]
    },
    {
      "cell_type": "code",
      "metadata": {
        "id": "ljHhltRQAkj2",
        "outputId": "162682cb-df09-4c8e-a308-b105efb95968",
        "colab": {
          "base_uri": "https://localhost:8080/"
        }
      },
      "source": [
        "from keras.layers import GRU, Input, Dense, TimeDistributed\n",
        "from keras.models import Model, Sequential\n",
        "from keras.layers import Activation\n",
        "from keras.optimizers import Adam\n",
        "from keras.losses import sparse_categorical_crossentropy\n",
        "\n",
        "\n",
        "def simple_model(input_shape, output_sequence_length, english_vocab_size, french_vocab_size):\n",
        "    \"\"\"\n",
        "    Build and train a basic RNN on x and y\n",
        "    :param input_shape: Tuple of input shape\n",
        "    :param output_sequence_length: Length of output sequence\n",
        "    :param english_vocab_size: Number of unique English words in the dataset\n",
        "    :param french_vocab_size: Number of unique French words in the dataset\n",
        "    :return: Keras model built, but not trained\n",
        "    \"\"\"\n",
        "    # TODO: Build the layers\n",
        "    \n",
        "    learning_rate=0.1\n",
        "    \n",
        "    model = Sequential()\n",
        "    model.add(GRU(128,dropout=0.1, input_shape= input_shape[1:],return_sequences=True))\n",
        "    model.add(TimeDistributed(Dense(french_vocab_size,activation='softmax')))\n",
        "    \n",
        "    model.compile(loss=sparse_categorical_crossentropy,\n",
        "                  optimizer=Adam(learning_rate),\n",
        "                  metrics=['accuracy'])\n",
        "    return model\n",
        "# Commented the test since there is deprecated model.model\n",
        "#tests.test_simple_model(simple_model)\n",
        "\n",
        "# Reshaping the input to work with a basic RNN\n",
        "tmp_x = pad(preproc_english_sentences, max_french_sequence_length)\n",
        "tmp_x = tmp_x.reshape((-1, preproc_french_sentences.shape[-2], 1))\n",
        "\n",
        "# Train the neural network\n",
        "simple_rnn_model = simple_model(\n",
        "    tmp_x.shape,\n",
        "    max_french_sequence_length,\n",
        "    english_vocab_size,\n",
        "    french_vocab_size)\n",
        "simple_rnn_model.fit(tmp_x, preproc_french_sentences, batch_size=1024, epochs=10, validation_split=0.2)\n",
        "\n",
        "# Print prediction(s)\n",
        "print(logits_to_text(simple_rnn_model.predict(tmp_x[:1])[0], french_tokenizer))"
      ],
      "execution_count": 17,
      "outputs": [
        {
          "output_type": "stream",
          "text": [
            "Epoch 1/10\n",
            "108/108 [==============================] - 10s 21ms/step - loss: 2.9918 - accuracy: 0.4710 - val_loss: nan - val_accuracy: 0.5882\n",
            "Epoch 2/10\n",
            "108/108 [==============================] - 2s 17ms/step - loss: 1.6116 - accuracy: 0.6012 - val_loss: nan - val_accuracy: 0.5729\n",
            "Epoch 3/10\n",
            "108/108 [==============================] - 2s 17ms/step - loss: 1.4851 - accuracy: 0.6186 - val_loss: nan - val_accuracy: 0.5839\n",
            "Epoch 4/10\n",
            "108/108 [==============================] - 2s 18ms/step - loss: 1.4080 - accuracy: 0.6311 - val_loss: nan - val_accuracy: 0.5913\n",
            "Epoch 5/10\n",
            "108/108 [==============================] - 2s 18ms/step - loss: 1.3806 - accuracy: 0.6351 - val_loss: nan - val_accuracy: 0.5923\n",
            "Epoch 6/10\n",
            "108/108 [==============================] - 2s 18ms/step - loss: 1.3747 - accuracy: 0.6354 - val_loss: nan - val_accuracy: 0.5817\n",
            "Epoch 7/10\n",
            "108/108 [==============================] - 2s 18ms/step - loss: 1.3484 - accuracy: 0.6411 - val_loss: nan - val_accuracy: 0.5801\n",
            "Epoch 8/10\n",
            "108/108 [==============================] - 2s 18ms/step - loss: 1.3342 - accuracy: 0.6440 - val_loss: nan - val_accuracy: 0.5701\n",
            "Epoch 9/10\n",
            "108/108 [==============================] - 2s 18ms/step - loss: 1.3628 - accuracy: 0.6416 - val_loss: nan - val_accuracy: 0.5815\n",
            "Epoch 10/10\n",
            "108/108 [==============================] - 2s 18ms/step - loss: 1.3400 - accuracy: 0.6475 - val_loss: nan - val_accuracy: 0.5873\n",
            "new jersey est parfois parfois en l' mais il est est en en <PAD> <PAD> <PAD> <PAD> <PAD> <PAD> <PAD> <PAD>\n"
          ],
          "name": "stdout"
        }
      ]
    },
    {
      "cell_type": "markdown",
      "metadata": {
        "id": "BARmqWjJAkj2"
      },
      "source": [
        "### Model 2: Embedding (IMPLEMENTATION)\n",
        "![RNN](https://github.com/florenciopaucar/bidirectional-rnn-machine-translation/blob/master/images/embedding.png?raw=1)\n",
        "You've turned the words into ids, but there's a better representation of a word.  This is called word embeddings.  An embedding is a vector representation of the word that is close to similar words in n-dimensional space, where the n represents the size of the embedding vectors.\n",
        "\n",
        "In this model, you'll create a RNN model using embedding."
      ]
    },
    {
      "cell_type": "code",
      "metadata": {
        "id": "REL0LZxAAkj2",
        "outputId": "07eee580-fcd5-49bb-f2e1-623f6b72a966",
        "colab": {
          "base_uri": "https://localhost:8080/"
        }
      },
      "source": [
        "from keras.layers.embeddings import Embedding\n",
        "from keras.layers import GRU, Input, Dense, TimeDistributed, Dropout\n",
        "\n",
        "def embed_model(input_shape, output_sequence_length, english_vocab_size, french_vocab_size):\n",
        "    \"\"\"\n",
        "    Build and train a RNN model using word embedding on x and y\n",
        "    :param input_shape: Tuple of input shape\n",
        "    :param output_sequence_length: Length of output sequence\n",
        "    :param english_vocab_size: Number of unique English words in the dataset\n",
        "    :param french_vocab_size: Number of unique French words in the dataset\n",
        "    :return: Keras model built, but not trained\n",
        "    \"\"\"\n",
        "    # TODO: Implement\n",
        "    model = Sequential()\n",
        "    model.add(Embedding(english_vocab_size, 128, input_length=input_shape[1],\n",
        "                        input_shape=input_shape[1:]))\n",
        "    model.add(GRU(128, return_sequences=True))\n",
        "    model.add(TimeDistributed(Dense(512, activation='tanh')))\n",
        "    model.add(Dropout(0.5))\n",
        "    model.add(TimeDistributed(Dense(french_vocab_size, activation='softmax')))\n",
        "    learning_rate = 0.001\n",
        "    model.compile(loss=sparse_categorical_crossentropy,\n",
        "                  optimizer=Adam(learning_rate),\n",
        "                  metrics=['accuracy'])\n",
        "    return model\n",
        "\n",
        "# Commented since model.model is deprecated\n",
        "#tests.test_embed_model(embed_model)\n",
        "\n",
        "# TODO: Reshape the input\n",
        "tmp_x = pad(preproc_english_sentences, preproc_french_sentences.shape[1])\n",
        "tmp_x = tmp_x.reshape((-1, preproc_french_sentences.shape[-2]))\n",
        "\n",
        "# TODO: Train the neural network\n",
        "embedding_rnn_model = embed_model(\n",
        "    tmp_x.shape,\n",
        "    preproc_french_sentences.shape[1],\n",
        "    len(english_tokenizer.word_index)+1,\n",
        "    len(french_tokenizer.word_index)+1)\n",
        "print(embedding_rnn_model.summary())\n",
        "embedding_rnn_model.fit(tmp_x, preproc_french_sentences, \n",
        "                    batch_size=100, epochs=10, validation_split=0.2)\n",
        "# TODO: Print prediction(s)\n",
        "print(logits_to_text(embedding_rnn_model.predict(tmp_x[:1])[0], french_tokenizer))\n",
        "print(\"Original text and translation:\")\n",
        "print(english_sentences[:1])\n",
        "print(french_sentences[:1])"
      ],
      "execution_count": 19,
      "outputs": [
        {
          "output_type": "stream",
          "text": [
            "Model: \"sequential_3\"\n",
            "_________________________________________________________________\n",
            "Layer (type)                 Output Shape              Param #   \n",
            "=================================================================\n",
            "embedding_1 (Embedding)      (None, 21, 128)           25600     \n",
            "_________________________________________________________________\n",
            "gru_3 (GRU)                  (None, 21, 128)           99072     \n",
            "_________________________________________________________________\n",
            "time_distributed_4 (TimeDist (None, 21, 512)           66048     \n",
            "_________________________________________________________________\n",
            "dropout_1 (Dropout)          (None, 21, 512)           0         \n",
            "_________________________________________________________________\n",
            "time_distributed_5 (TimeDist (None, 21, 345)           176985    \n",
            "=================================================================\n",
            "Total params: 367,705\n",
            "Trainable params: 367,705\n",
            "Non-trainable params: 0\n",
            "_________________________________________________________________\n",
            "None\n",
            "Epoch 1/10\n",
            "1103/1103 [==============================] - 10s 7ms/step - loss: 1.7631 - accuracy: 0.6256 - val_loss: 0.4358 - val_accuracy: 0.8624\n",
            "Epoch 2/10\n",
            "1103/1103 [==============================] - 8s 7ms/step - loss: 0.4343 - accuracy: 0.8613 - val_loss: 0.3153 - val_accuracy: 0.8962\n",
            "Epoch 3/10\n",
            "1103/1103 [==============================] - 8s 7ms/step - loss: 0.3334 - accuracy: 0.8913 - val_loss: 0.2650 - val_accuracy: 0.9116\n",
            "Epoch 4/10\n",
            "1103/1103 [==============================] - 8s 7ms/step - loss: 0.2849 - accuracy: 0.9061 - val_loss: 0.2529 - val_accuracy: 0.9154\n",
            "Epoch 5/10\n",
            "1103/1103 [==============================] - 8s 7ms/step - loss: 0.2579 - accuracy: 0.9144 - val_loss: 0.2323 - val_accuracy: 0.9219\n",
            "Epoch 6/10\n",
            "1103/1103 [==============================] - 8s 7ms/step - loss: 0.2417 - accuracy: 0.9192 - val_loss: 0.2224 - val_accuracy: 0.9246\n",
            "Epoch 7/10\n",
            "1103/1103 [==============================] - 8s 7ms/step - loss: 0.2291 - accuracy: 0.9230 - val_loss: 0.2126 - val_accuracy: 0.9271\n",
            "Epoch 8/10\n",
            "1103/1103 [==============================] - 8s 7ms/step - loss: 0.2216 - accuracy: 0.9253 - val_loss: 0.2079 - val_accuracy: 0.9292\n",
            "Epoch 9/10\n",
            "1103/1103 [==============================] - 8s 7ms/step - loss: 0.2149 - accuracy: 0.9273 - val_loss: 0.2027 - val_accuracy: 0.9306\n",
            "Epoch 10/10\n",
            "1103/1103 [==============================] - 8s 7ms/step - loss: 0.2089 - accuracy: 0.9287 - val_loss: 0.1994 - val_accuracy: 0.9323\n",
            "new jersey est parfois calme en l' automne et il est neigeux en avril <PAD> <PAD> <PAD> <PAD> <PAD> <PAD> <PAD>\n",
            "Original text and translation:\n",
            "['new jersey is sometimes quiet during autumn , and it is snowy in april .']\n",
            "[\"new jersey est parfois calme pendant l' automne , et il est neigeux en avril .\"]\n"
          ],
          "name": "stdout"
        }
      ]
    },
    {
      "cell_type": "markdown",
      "metadata": {
        "id": "L9C3NopeAkj3"
      },
      "source": [
        "### Model 3: Bidirectional RNNs (IMPLEMENTATION)\n",
        "![RNN](https://github.com/florenciopaucar/bidirectional-rnn-machine-translation/blob/master/images/bidirectional.png?raw=1)\n",
        "One restriction of a RNN is that it can't see the future input, only the past.  This is where bidirectional recurrent neural networks come in.  They are able to see the future data."
      ]
    },
    {
      "cell_type": "code",
      "metadata": {
        "id": "Kr4OErASAkj3",
        "outputId": "cf344e04-655f-4b11-86bb-d8784b13f04f",
        "colab": {
          "base_uri": "https://localhost:8080/"
        }
      },
      "source": [
        "\n",
        "from keras.layers import Bidirectional\n",
        "\n",
        "def bd_model(input_shape, output_sequence_length, english_vocab_size, french_vocab_size):\n",
        "    \"\"\"\n",
        "    Build and train a bidirectional RNN model on x and y\n",
        "    :param input_shape: Tuple of input shape\n",
        "    :param output_sequence_length: Length of output sequence\n",
        "    :param english_vocab_size: Number of unique English words in the dataset\n",
        "    :param french_vocab_size: Number of unique French words in the dataset\n",
        "    :return: Keras model built, but not trained\n",
        "    \"\"\"\n",
        "    # TODO: Implement\n",
        "    model = Sequential()\n",
        "    model.add(Bidirectional(GRU(128, return_sequences=True), input_shape=input_shape[1:]))\n",
        "    model.add(TimeDistributed(Dense(512, activation='tanh')))\n",
        "    model.add(Dropout(0.5))\n",
        "    model.add(TimeDistributed(Dense(french_vocab_size, activation='softmax')))\n",
        "    learning_rate = 0.001   \n",
        "    model.compile(loss=sparse_categorical_crossentropy,\n",
        "                  optimizer=Adam(learning_rate),\n",
        "                  metrics=['accuracy'])\n",
        "    return model\n",
        "\n",
        "#Commented test since it is deprecated model.model\n",
        "#tests.test_bd_model(bd_model)\n",
        "\n",
        "# TODO: Train and Print prediction(s)\n",
        "tmp_x = pad(preproc_english_sentences, preproc_french_sentences.shape[1])\n",
        "tmp_x = tmp_x.reshape((-1, preproc_french_sentences.shape[-2], 1))\n",
        "\n",
        "bidirectional_rnn_model = bd_model(\n",
        "    tmp_x.shape,\n",
        "    preproc_french_sentences.shape[1],\n",
        "    len(english_tokenizer.word_index)+1,\n",
        "    len(french_tokenizer.word_index)+1)\n",
        "print(bidirectional_rnn_model.summary())\n",
        "\n",
        "bidirectional_rnn_model.fit(tmp_x, preproc_french_sentences, batch_size=100, epochs=10, validation_split=0.2)\n",
        "\n",
        "\n",
        "print(logits_to_text(bidirectional_rnn_model.predict(tmp_x[:1])[0], french_tokenizer))\n",
        "print(\"Original text and translation:\")\n",
        "print(english_sentences[:1])\n",
        "print(french_sentences[:1])\n",
        "\n"
      ],
      "execution_count": 21,
      "outputs": [
        {
          "output_type": "stream",
          "text": [
            "Model: \"sequential_5\"\n",
            "_________________________________________________________________\n",
            "Layer (type)                 Output Shape              Param #   \n",
            "=================================================================\n",
            "bidirectional_1 (Bidirection (None, 21, 256)           100608    \n",
            "_________________________________________________________________\n",
            "time_distributed_8 (TimeDist (None, 21, 512)           131584    \n",
            "_________________________________________________________________\n",
            "dropout_3 (Dropout)          (None, 21, 512)           0         \n",
            "_________________________________________________________________\n",
            "time_distributed_9 (TimeDist (None, 21, 345)           176985    \n",
            "=================================================================\n",
            "Total params: 409,177\n",
            "Trainable params: 409,177\n",
            "Non-trainable params: 0\n",
            "_________________________________________________________________\n",
            "None\n",
            "Epoch 1/10\n",
            "1103/1103 [==============================] - 11s 8ms/step - loss: 1.7983 - accuracy: 0.5790 - val_loss: 1.0554 - val_accuracy: 0.6787\n",
            "Epoch 2/10\n",
            "1103/1103 [==============================] - 9s 8ms/step - loss: 1.0717 - accuracy: 0.6722 - val_loss: 0.9352 - val_accuracy: 0.7006\n",
            "Epoch 3/10\n",
            "1103/1103 [==============================] - 8s 8ms/step - loss: 0.9701 - accuracy: 0.6894 - val_loss: 0.8797 - val_accuracy: 0.7086\n",
            "Epoch 4/10\n",
            "1103/1103 [==============================] - 9s 8ms/step - loss: 0.9198 - accuracy: 0.6987 - val_loss: 0.8431 - val_accuracy: 0.7161\n",
            "Epoch 5/10\n",
            "1103/1103 [==============================] - 8s 8ms/step - loss: 0.8871 - accuracy: 0.7044 - val_loss: 0.8105 - val_accuracy: 0.7213\n",
            "Epoch 6/10\n",
            "1103/1103 [==============================] - 9s 8ms/step - loss: 0.8588 - accuracy: 0.7095 - val_loss: 0.7820 - val_accuracy: 0.7310\n",
            "Epoch 7/10\n",
            "1103/1103 [==============================] - 9s 8ms/step - loss: 0.8329 - accuracy: 0.7155 - val_loss: 0.7513 - val_accuracy: 0.7406\n",
            "Epoch 8/10\n",
            "1103/1103 [==============================] - 9s 8ms/step - loss: 0.8042 - accuracy: 0.7249 - val_loss: 0.7188 - val_accuracy: 0.7567\n",
            "Epoch 9/10\n",
            "1103/1103 [==============================] - 9s 8ms/step - loss: 0.7610 - accuracy: 0.7428 - val_loss: 0.6852 - val_accuracy: 0.7705\n",
            "Epoch 10/10\n",
            "1103/1103 [==============================] - 9s 8ms/step - loss: 0.7323 - accuracy: 0.7520 - val_loss: 0.6534 - val_accuracy: 0.7793\n",
            "new jersey est parfois calme au mois de mai et il est en en avril <PAD> <PAD> <PAD> <PAD> <PAD> <PAD>\n",
            "Original text and translation:\n",
            "['new jersey is sometimes quiet during autumn , and it is snowy in april .']\n",
            "[\"new jersey est parfois calme pendant l' automne , et il est neigeux en avril .\"]\n"
          ],
          "name": "stdout"
        }
      ]
    },
    {
      "cell_type": "markdown",
      "metadata": {
        "id": "bxpVmx18Akj3"
      },
      "source": [
        "### Model 4: Encoder-Decoder (OPTIONAL)\n",
        "Time to look at encoder-decoder models.  This model is made up of an encoder and decoder. The encoder creates a matrix representation of the sentence.  The decoder takes this matrix as input and predicts the translation as output.\n",
        "\n",
        "Create an encoder-decoder model in the cell below."
      ]
    },
    {
      "cell_type": "code",
      "metadata": {
        "id": "sKLB2RzrAkj3",
        "outputId": "d14e9460-25cc-48f4-dbdf-f13bfc8d9e88",
        "colab": {
          "base_uri": "https://localhost:8080/"
        }
      },
      "source": [
        "def encdec_model(input_shape, output_sequence_length, english_vocab_size, french_vocab_size):\n",
        "    \"\"\"\n",
        "    Build and train an encoder-decoder model on x and y\n",
        "    :param input_shape: Tuple of input shape\n",
        "    :param output_sequence_length: Length of output sequence\n",
        "    :param english_vocab_size: Number of unique English words in the dataset\n",
        "    :param french_vocab_size: Number of unique French words in the dataset\n",
        "    :return: Keras model built, but not trained\n",
        "    \"\"\"\n",
        "    # OPTIONAL: Implement\n",
        "    model = Sequential()\n",
        "    model.add(GRU(128, input_shape=input_shape[1:], go_backwards=True))\n",
        "    model.add(RepeatVector(output_sequence_length))\n",
        "    model.add(GRU(128, return_sequences=True))\n",
        "    model.add(TimeDistributed(Dense(512, activation='tanh')))\n",
        "    model.add(Dropout(0.5))\n",
        "    model.add(TimeDistributed(Dense(french_vocab_size, activation='softmax')))\n",
        "    learning_rate = 0.001   \n",
        "    model.compile(loss=sparse_categorical_crossentropy,\n",
        "                  optimizer=Adam(learning_rate),\n",
        "                  metrics=['accuracy'])\n",
        "    return model\n",
        "\n",
        "#Commented test since it is deprecated model.model\n",
        "#tests.test_encdec_model(encdec_model)\n",
        "\n",
        "tmp_x = pad(preproc_english_sentences, preproc_french_sentences.shape[1])\n",
        "tmp_x = tmp_x.reshape((-1, preproc_french_sentences.shape[-2], 1))\n",
        "\n",
        "# OPTIONAL: Train and Print prediction(s)\n",
        "encoder_decoder_rnn_model = encdec_model(\n",
        "    tmp_x.shape,\n",
        "    preproc_french_sentences.shape[1],\n",
        "    len(english_tokenizer.word_index)+1,\n",
        "    len(french_tokenizer.word_index)+1)\n",
        "print(encoder_decoder_rnn_model.summary())\n",
        "\n",
        "encoder_decoder_rnn_model.fit(tmp_x, preproc_french_sentences, \n",
        "                              batch_size=100, epochs=10, validation_split=0.2)\n",
        "print(logits_to_text(encoder_decoder_rnn_model.predict(tmp_x[:1])[0], french_tokenizer))\n",
        "print(\"Original text and translation:\")\n",
        "print(english_sentences[:1])\n",
        "print(french_sentences[:1])"
      ],
      "execution_count": 22,
      "outputs": [
        {
          "output_type": "stream",
          "text": [
            "Model: \"sequential_6\"\n",
            "_________________________________________________________________\n",
            "Layer (type)                 Output Shape              Param #   \n",
            "=================================================================\n",
            "gru_6 (GRU)                  (None, 128)               50304     \n",
            "_________________________________________________________________\n",
            "repeat_vector (RepeatVector) (None, 21, 128)           0         \n",
            "_________________________________________________________________\n",
            "gru_7 (GRU)                  (None, 21, 128)           99072     \n",
            "_________________________________________________________________\n",
            "time_distributed_10 (TimeDis (None, 21, 512)           66048     \n",
            "_________________________________________________________________\n",
            "dropout_4 (Dropout)          (None, 21, 512)           0         \n",
            "_________________________________________________________________\n",
            "time_distributed_11 (TimeDis (None, 21, 345)           176985    \n",
            "=================================================================\n",
            "Total params: 392,409\n",
            "Trainable params: 392,409\n",
            "Non-trainable params: 0\n",
            "_________________________________________________________________\n",
            "None\n",
            "Epoch 1/10\n",
            "1103/1103 [==============================] - 11s 8ms/step - loss: 2.0574 - accuracy: 0.5287 - val_loss: 1.2685 - val_accuracy: 0.6423\n",
            "Epoch 2/10\n",
            "1103/1103 [==============================] - 8s 8ms/step - loss: 1.2598 - accuracy: 0.6431 - val_loss: 1.0797 - val_accuracy: 0.6860\n",
            "Epoch 3/10\n",
            "1103/1103 [==============================] - 8s 8ms/step - loss: 1.0820 - accuracy: 0.6859 - val_loss: 0.9908 - val_accuracy: 0.7073\n",
            "Epoch 4/10\n",
            "1103/1103 [==============================] - 9s 8ms/step - loss: 0.9752 - accuracy: 0.7098 - val_loss: 0.8852 - val_accuracy: 0.7254\n",
            "Epoch 5/10\n",
            "1103/1103 [==============================] - 8s 8ms/step - loss: 0.9040 - accuracy: 0.7193 - val_loss: 0.8177 - val_accuracy: 0.7367\n",
            "Epoch 6/10\n",
            "1103/1103 [==============================] - 8s 8ms/step - loss: 0.8422 - accuracy: 0.7295 - val_loss: 0.7617 - val_accuracy: 0.7478\n",
            "Epoch 7/10\n",
            "1103/1103 [==============================] - 8s 8ms/step - loss: 0.8017 - accuracy: 0.7368 - val_loss: 0.7362 - val_accuracy: 0.7520\n",
            "Epoch 8/10\n",
            "1103/1103 [==============================] - 8s 7ms/step - loss: 0.7608 - accuracy: 0.7467 - val_loss: 0.6814 - val_accuracy: 0.7669\n",
            "Epoch 9/10\n",
            "1103/1103 [==============================] - 8s 8ms/step - loss: 0.7115 - accuracy: 0.7586 - val_loss: 0.6273 - val_accuracy: 0.7872\n",
            "Epoch 10/10\n",
            "1103/1103 [==============================] - 8s 8ms/step - loss: 0.7112 - accuracy: 0.7589 - val_loss: 0.6173 - val_accuracy: 0.7848\n",
            "new jersey est parfois calme en l'automne et il est il en novembre <PAD> <PAD> <PAD> <PAD> <PAD> <PAD> <PAD> <PAD>\n",
            "Original text and translation:\n",
            "['new jersey is sometimes quiet during autumn , and it is snowy in april .']\n",
            "[\"new jersey est parfois calme pendant l' automne , et il est neigeux en avril .\"]\n"
          ],
          "name": "stdout"
        }
      ]
    },
    {
      "cell_type": "markdown",
      "metadata": {
        "id": "Z82IFkwiAkj3"
      },
      "source": [
        "### Model 5: Custom (IMPLEMENTATION)\n",
        "Use everything you learned from the previous models to create a model that incorporates embedding and a bidirectional rnn into one model."
      ]
    },
    {
      "cell_type": "code",
      "metadata": {
        "id": "gxzoxOHKAkj3",
        "outputId": "199828be-9903-4fa8-a25b-77c5d44e93c9",
        "colab": {
          "base_uri": "https://localhost:8080/"
        }
      },
      "source": [
        "from keras.layers import GRU, Input, Dense, TimeDistributed, Dropout\n",
        "from keras.models import Model, Sequential\n",
        "from keras.layers import Activation, RepeatVector, Bidirectional\n",
        "from keras.optimizers import Adam\n",
        "from keras.losses import sparse_categorical_crossentropy\n",
        "from keras.layers.embeddings import Embedding\n",
        "\n",
        "def model_final(input_shape, output_sequence_length, english_vocab_size, french_vocab_size):\n",
        "    \"\"\"\n",
        "    Build and train a model that incorporates embedding, encoder-decoder, and bidirectional RNN on x and y\n",
        "    :param input_shape: Tuple of input shape\n",
        "    :param output_sequence_length: Length of output sequence\n",
        "    :param english_vocab_size: Number of unique English words in the dataset\n",
        "    :param french_vocab_size: Number of unique French words in the dataset\n",
        "    :return: Keras model built, but not trained\n",
        "    \"\"\"\n",
        "    # TODO: Implement\n",
        "    learning_rate = 0.001\n",
        "    \n",
        "    model = Sequential()\n",
        "    model.add(Embedding(english_vocab_size, 128, input_length=input_shape[1],\n",
        "                         input_shape=input_shape[1:]))\n",
        "    model.add(Bidirectional(GRU(128)))\n",
        "    model.add(RepeatVector(output_sequence_length))\n",
        "    model.add(Bidirectional(GRU(128, return_sequences=True)))\n",
        "    model.add(TimeDistributed(Dense(512, activation='tanh')))\n",
        "    model.add(Dropout(0.5))\n",
        "    model.add(TimeDistributed(Dense(french_vocab_size, activation='softmax')))\n",
        "    model.compile(loss=sparse_categorical_crossentropy,\n",
        "                  optimizer=Adam(learning_rate),\n",
        "                  metrics=['accuracy'])\n",
        "    return model \n",
        "    \n",
        "\n",
        "#tests.test_model_final(model_final)\n",
        "\n",
        "print('Final Model Loaded')\n",
        "# TODO: Train the final model"
      ],
      "execution_count": 25,
      "outputs": [
        {
          "output_type": "stream",
          "text": [
            "Final Model Loaded\n"
          ],
          "name": "stdout"
        }
      ]
    },
    {
      "cell_type": "markdown",
      "metadata": {
        "id": "LUA2l_mOAkj3"
      },
      "source": [
        "## Prediction (IMPLEMENTATION)"
      ]
    },
    {
      "cell_type": "code",
      "metadata": {
        "id": "W_GEmSR3Akj4",
        "outputId": "a1504406-59a3-4028-f38d-3a84621fded4",
        "colab": {
          "base_uri": "https://localhost:8080/"
        }
      },
      "source": [
        "def final_predictions(x, y, x_tk, y_tk):\n",
        "    \"\"\"\n",
        "    Gets predictions using the final model\n",
        "    :param x: Preprocessed English data\n",
        "    :param y: Preprocessed French data\n",
        "    :param x_tk: English tokenizer\n",
        "    :param y_tk: French tokenizer\n",
        "    \"\"\"\n",
        "    # TODO: Train neural network using model_final\n",
        "    model = model_final(x.shape,y.shape[1],\n",
        "                        len(x_tk.word_index)+1,\n",
        "                        len(y_tk.word_index)+1)\n",
        "    print(model.summary())\n",
        "    model.fit(x, y, batch_size=100, epochs=20, validation_split=0.2)\n",
        "    \n",
        "    ## DON'T EDIT ANYTHING BELOW THIS LINE\n",
        "    y_id_to_word = {value: key for key, value in y_tk.word_index.items()}\n",
        "    y_id_to_word[0] = '<PAD>'\n",
        "\n",
        "    sentence = 'he saw a old yellow truck'\n",
        "    sentence = [x_tk.word_index[word] for word in sentence.split()]\n",
        "    sentence = pad_sequences([sentence], maxlen=x.shape[-1], padding='post')\n",
        "    sentences = np.array([sentence[0], x[0]])\n",
        "    predictions = model.predict(sentences, len(sentences))\n",
        "\n",
        "    print('Sample 1:')\n",
        "    print(' '.join([y_id_to_word[np.argmax(x)] for x in predictions[0]]))\n",
        "    print('Il a vu un vieux camion jaune')\n",
        "    print('Sample 2:')\n",
        "    print(' '.join([y_id_to_word[np.argmax(x)] for x in predictions[1]]))\n",
        "    print(' '.join([y_id_to_word[np.max(x)] for x in y[0]]))\n",
        "\n",
        "\n",
        "final_predictions(preproc_english_sentences, preproc_french_sentences, english_tokenizer, french_tokenizer)"
      ],
      "execution_count": 26,
      "outputs": [
        {
          "output_type": "stream",
          "text": [
            "Model: \"sequential_8\"\n",
            "_________________________________________________________________\n",
            "Layer (type)                 Output Shape              Param #   \n",
            "=================================================================\n",
            "embedding_3 (Embedding)      (None, 15, 128)           25600     \n",
            "_________________________________________________________________\n",
            "bidirectional_4 (Bidirection (None, 256)               198144    \n",
            "_________________________________________________________________\n",
            "repeat_vector_2 (RepeatVecto (None, 21, 256)           0         \n",
            "_________________________________________________________________\n",
            "bidirectional_5 (Bidirection (None, 21, 256)           296448    \n",
            "_________________________________________________________________\n",
            "time_distributed_14 (TimeDis (None, 21, 512)           131584    \n",
            "_________________________________________________________________\n",
            "dropout_6 (Dropout)          (None, 21, 512)           0         \n",
            "_________________________________________________________________\n",
            "time_distributed_15 (TimeDis (None, 21, 345)           176985    \n",
            "=================================================================\n",
            "Total params: 828,761\n",
            "Trainable params: 828,761\n",
            "Non-trainable params: 0\n",
            "_________________________________________________________________\n",
            "None\n",
            "Epoch 1/20\n",
            "1103/1103 [==============================] - 20s 14ms/step - loss: 2.1061 - accuracy: 0.5354 - val_loss: 0.8468 - val_accuracy: 0.7466\n",
            "Epoch 2/20\n",
            "1103/1103 [==============================] - 15s 13ms/step - loss: 0.8016 - accuracy: 0.7609 - val_loss: 0.4521 - val_accuracy: 0.8661\n",
            "Epoch 3/20\n",
            "1103/1103 [==============================] - 15s 13ms/step - loss: 0.4533 - accuracy: 0.8663 - val_loss: 0.2607 - val_accuracy: 0.9264\n",
            "Epoch 4/20\n",
            "1103/1103 [==============================] - 15s 13ms/step - loss: 0.2926 - accuracy: 0.9147 - val_loss: 0.2277 - val_accuracy: 0.9321\n",
            "Epoch 5/20\n",
            "1103/1103 [==============================] - 15s 13ms/step - loss: 0.2234 - accuracy: 0.9338 - val_loss: 0.1563 - val_accuracy: 0.9528\n",
            "Epoch 6/20\n",
            "1103/1103 [==============================] - 14s 13ms/step - loss: 0.1820 - accuracy: 0.9461 - val_loss: 0.1331 - val_accuracy: 0.9593\n",
            "Epoch 7/20\n",
            "1103/1103 [==============================] - 15s 13ms/step - loss: 0.1556 - accuracy: 0.9537 - val_loss: 0.1401 - val_accuracy: 0.9594\n",
            "Epoch 8/20\n",
            "1103/1103 [==============================] - 14s 13ms/step - loss: 0.1415 - accuracy: 0.9581 - val_loss: 0.1074 - val_accuracy: 0.9683\n",
            "Epoch 9/20\n",
            "1103/1103 [==============================] - 14s 13ms/step - loss: 0.1203 - accuracy: 0.9642 - val_loss: 0.0989 - val_accuracy: 0.9705\n",
            "Epoch 10/20\n",
            "1103/1103 [==============================] - 15s 13ms/step - loss: 0.1091 - accuracy: 0.9678 - val_loss: 0.0994 - val_accuracy: 0.9706\n",
            "Epoch 11/20\n",
            "1103/1103 [==============================] - 15s 14ms/step - loss: 0.1004 - accuracy: 0.9704 - val_loss: 0.1064 - val_accuracy: 0.9707\n",
            "Epoch 12/20\n",
            "1103/1103 [==============================] - 15s 13ms/step - loss: 0.0934 - accuracy: 0.9728 - val_loss: 0.1013 - val_accuracy: 0.9713\n",
            "Epoch 13/20\n",
            "1103/1103 [==============================] - 15s 13ms/step - loss: 0.0865 - accuracy: 0.9749 - val_loss: 0.0788 - val_accuracy: 0.9769\n",
            "Epoch 14/20\n",
            "1103/1103 [==============================] - 14s 13ms/step - loss: 0.0830 - accuracy: 0.9760 - val_loss: 0.0815 - val_accuracy: 0.9778\n",
            "Epoch 15/20\n",
            "1103/1103 [==============================] - 15s 13ms/step - loss: 0.0733 - accuracy: 0.9786 - val_loss: 0.0753 - val_accuracy: 0.9795\n",
            "Epoch 16/20\n",
            "1103/1103 [==============================] - 15s 13ms/step - loss: 0.0666 - accuracy: 0.9808 - val_loss: 0.1205 - val_accuracy: 0.9690\n",
            "Epoch 17/20\n",
            "1103/1103 [==============================] - 15s 13ms/step - loss: 0.0762 - accuracy: 0.9784 - val_loss: 0.0757 - val_accuracy: 0.9802\n",
            "Epoch 18/20\n",
            "1103/1103 [==============================] - 15s 13ms/step - loss: 0.0652 - accuracy: 0.9814 - val_loss: 0.0819 - val_accuracy: 0.9781\n",
            "Epoch 19/20\n",
            "1103/1103 [==============================] - 14s 13ms/step - loss: 0.0574 - accuracy: 0.9834 - val_loss: 0.0711 - val_accuracy: 0.9818\n",
            "Epoch 20/20\n",
            "1103/1103 [==============================] - 15s 13ms/step - loss: 0.0739 - accuracy: 0.9793 - val_loss: 0.0723 - val_accuracy: 0.9811\n",
            "WARNING:tensorflow:5 out of the last 5 calls to <function Model.make_predict_function.<locals>.predict_function at 0x7f768ea0b840> triggered tf.function retracing. Tracing is expensive and the excessive number of tracings could be due to (1) creating @tf.function repeatedly in a loop, (2) passing tensors with different shapes, (3) passing Python objects instead of tensors. For (1), please define your @tf.function outside of the loop. For (2), @tf.function has experimental_relax_shapes=True option that relaxes argument shapes that can avoid unnecessary retracing. For (3), please refer to https://www.tensorflow.org/guide/function#controlling_retracing and https://www.tensorflow.org/api_docs/python/tf/function for  more details.\n",
            "Sample 1:\n",
            "il a vu un vieux camion jaune <PAD> <PAD> <PAD> <PAD> <PAD> <PAD> <PAD> <PAD> <PAD> <PAD> <PAD> <PAD> <PAD> <PAD>\n",
            "Il a vu un vieux camion jaune\n",
            "Sample 2:\n",
            "new jersey est parfois calme pendant l' automne et il est neigeux en avril <PAD> <PAD> <PAD> <PAD> <PAD> <PAD> <PAD>\n",
            "new jersey est parfois calme pendant l' automne et il est neigeux en avril <PAD> <PAD> <PAD> <PAD> <PAD> <PAD> <PAD>\n"
          ],
          "name": "stdout"
        }
      ]
    },
    {
      "cell_type": "code",
      "metadata": {
        "id": "Q1Y1j0nIrK2j",
        "outputId": "30ae60bb-20cd-4978-c524-fc5daeb6eaf9",
        "colab": {
          "base_uri": "https://localhost:8080/"
        }
      },
      "source": [
        "def final_model_training(x, y, x_tk, y_tk):\n",
        "    \"\"\"\n",
        "    Gets predictions using the final model\n",
        "    :param x: Preprocessed English data\n",
        "    :param y: Preprocessed French data\n",
        "    :param x_tk: English tokenizer\n",
        "    :param y_tk: French tokenizer\n",
        "    \"\"\"\n",
        "    # TODO: Train neural network using model_final\n",
        "    model = model_final(x.shape,y.shape[1],\n",
        "                        len(x_tk.word_index)+1,\n",
        "                        len(y_tk.word_index)+1)\n",
        "    print(model.summary())\n",
        "    model.fit(x, y, batch_size=100, epochs=20, validation_split=0.2)\n",
        "    return model\n",
        "\n",
        "final_model_trained = final_model_training(preproc_english_sentences, preproc_french_sentences, english_tokenizer, french_tokenizer)\n"
      ],
      "execution_count": 27,
      "outputs": [
        {
          "output_type": "stream",
          "text": [
            "Model: \"sequential_9\"\n",
            "_________________________________________________________________\n",
            "Layer (type)                 Output Shape              Param #   \n",
            "=================================================================\n",
            "embedding_4 (Embedding)      (None, 15, 128)           25600     \n",
            "_________________________________________________________________\n",
            "bidirectional_6 (Bidirection (None, 256)               198144    \n",
            "_________________________________________________________________\n",
            "repeat_vector_3 (RepeatVecto (None, 21, 256)           0         \n",
            "_________________________________________________________________\n",
            "bidirectional_7 (Bidirection (None, 21, 256)           296448    \n",
            "_________________________________________________________________\n",
            "time_distributed_16 (TimeDis (None, 21, 512)           131584    \n",
            "_________________________________________________________________\n",
            "dropout_7 (Dropout)          (None, 21, 512)           0         \n",
            "_________________________________________________________________\n",
            "time_distributed_17 (TimeDis (None, 21, 345)           176985    \n",
            "=================================================================\n",
            "Total params: 828,761\n",
            "Trainable params: 828,761\n",
            "Non-trainable params: 0\n",
            "_________________________________________________________________\n",
            "None\n",
            "Epoch 1/20\n",
            "1103/1103 [==============================] - 20s 14ms/step - loss: 2.1172 - accuracy: 0.5336 - val_loss: 0.8633 - val_accuracy: 0.7442\n",
            "Epoch 2/20\n",
            "1103/1103 [==============================] - 15s 13ms/step - loss: 0.8204 - accuracy: 0.7562 - val_loss: 0.4807 - val_accuracy: 0.8574\n",
            "Epoch 3/20\n",
            "1103/1103 [==============================] - 15s 13ms/step - loss: 0.4816 - accuracy: 0.8549 - val_loss: 0.2896 - val_accuracy: 0.9157\n",
            "Epoch 4/20\n",
            "1103/1103 [==============================] - 15s 13ms/step - loss: 0.3199 - accuracy: 0.9050 - val_loss: 0.2302 - val_accuracy: 0.9318\n",
            "Epoch 5/20\n",
            "1103/1103 [==============================] - 15s 13ms/step - loss: 0.2388 - accuracy: 0.9298 - val_loss: 0.1792 - val_accuracy: 0.9465\n",
            "Epoch 6/20\n",
            "1103/1103 [==============================] - 15s 13ms/step - loss: 0.1912 - accuracy: 0.9437 - val_loss: 0.1468 - val_accuracy: 0.9566\n",
            "Epoch 7/20\n",
            "1103/1103 [==============================] - 14s 13ms/step - loss: 0.1608 - accuracy: 0.9526 - val_loss: 0.1200 - val_accuracy: 0.9644\n",
            "Epoch 8/20\n",
            "1103/1103 [==============================] - 14s 13ms/step - loss: 0.1440 - accuracy: 0.9576 - val_loss: 0.1262 - val_accuracy: 0.9643\n",
            "Epoch 9/20\n",
            "1103/1103 [==============================] - 14s 13ms/step - loss: 0.1271 - accuracy: 0.9628 - val_loss: 0.1050 - val_accuracy: 0.9697\n",
            "Epoch 10/20\n",
            "1103/1103 [==============================] - 14s 13ms/step - loss: 0.1130 - accuracy: 0.9667 - val_loss: 0.0996 - val_accuracy: 0.9707\n",
            "Epoch 11/20\n",
            "1103/1103 [==============================] - 14s 13ms/step - loss: 0.1065 - accuracy: 0.9687 - val_loss: 0.1021 - val_accuracy: 0.9708\n",
            "Epoch 12/20\n",
            "1103/1103 [==============================] - 14s 13ms/step - loss: 0.1007 - accuracy: 0.9704 - val_loss: 0.1305 - val_accuracy: 0.9636\n",
            "Epoch 13/20\n",
            "1103/1103 [==============================] - 14s 13ms/step - loss: 0.0916 - accuracy: 0.9733 - val_loss: 0.0812 - val_accuracy: 0.9767\n",
            "Epoch 14/20\n",
            "1103/1103 [==============================] - 14s 13ms/step - loss: 0.0882 - accuracy: 0.9745 - val_loss: 0.0900 - val_accuracy: 0.9748\n",
            "Epoch 15/20\n",
            "1103/1103 [==============================] - 14s 13ms/step - loss: 0.0772 - accuracy: 0.9776 - val_loss: 0.0850 - val_accuracy: 0.9771\n",
            "Epoch 16/20\n",
            "1103/1103 [==============================] - 14s 13ms/step - loss: 0.0852 - accuracy: 0.9757 - val_loss: 0.0758 - val_accuracy: 0.9792\n",
            "Epoch 17/20\n",
            "1103/1103 [==============================] - 15s 13ms/step - loss: 0.0617 - accuracy: 0.9821 - val_loss: 0.0806 - val_accuracy: 0.9789\n",
            "Epoch 18/20\n",
            "1103/1103 [==============================] - 14s 13ms/step - loss: 0.0684 - accuracy: 0.9803 - val_loss: 0.0767 - val_accuracy: 0.9796\n",
            "Epoch 19/20\n",
            "1103/1103 [==============================] - 14s 13ms/step - loss: 0.0587 - accuracy: 0.9831 - val_loss: 0.0699 - val_accuracy: 0.9817\n",
            "Epoch 20/20\n",
            "1103/1103 [==============================] - 14s 13ms/step - loss: 0.0538 - accuracy: 0.9844 - val_loss: 0.1075 - val_accuracy: 0.9743\n"
          ],
          "name": "stdout"
        }
      ]
    },
    {
      "cell_type": "code",
      "metadata": {
        "id": "4nXd7JeZrU_e",
        "outputId": "27af1a43-19cd-4aa5-90ba-1318ee48458d",
        "colab": {
          "base_uri": "https://localhost:8080/"
        }
      },
      "source": [
        "## DON'T EDIT ANYTHING BELOW THIS LINE\n",
        "y_id_to_word = {value: key for key, value in french_tokenizer.word_index.items()}\n",
        "y_id_to_word[0] = '<PAD>'\n",
        "\n",
        "sentence = 'new jersey is sometimes quiet during'\n",
        "print(\"English:\\n{}\".format(sentence))\n",
        "sentence = [english_tokenizer.word_index[word] for word in sentence.split()]\n",
        "sentence = pad_sequences([sentence], maxlen=preproc_english_sentences.shape[-1], padding='post')\n",
        "sentences = np.array([sentence[0], preproc_english_sentences[0]])\n",
        "predictions = final_model_trained.predict(sentences, len(sentences))\n",
        "\n",
        "print(\"French: \")\n",
        "print(' '.join([y_id_to_word[np.argmax(x)] for x in predictions[0]]))\n"
      ],
      "execution_count": 70,
      "outputs": [
        {
          "output_type": "stream",
          "text": [
            "English:\n",
            "new jersey is sometimes quiet during\n",
            "French: \n",
            "new jersey est parfois calme au mois septembre doux <PAD> <PAD> <PAD> <PAD> <PAD> <PAD> <PAD> <PAD> <PAD> <PAD> <PAD> <PAD>\n"
          ],
          "name": "stdout"
        }
      ]
    },
    {
      "cell_type": "code",
      "metadata": {
        "id": "rhqliXwyvXQt"
      },
      "source": [
        ""
      ],
      "execution_count": 55,
      "outputs": []
    },
    {
      "cell_type": "code",
      "metadata": {
        "id": "vx_4USP6wNDx",
        "outputId": "f7c6e170-4959-4873-b309-e076abd9cc70",
        "colab": {
          "base_uri": "https://localhost:8080/"
        }
      },
      "source": [
        "predictions.shape"
      ],
      "execution_count": 56,
      "outputs": [
        {
          "output_type": "execute_result",
          "data": {
            "text/plain": [
              "(2, 21, 345)"
            ]
          },
          "metadata": {
            "tags": []
          },
          "execution_count": 56
        }
      ]
    },
    {
      "cell_type": "markdown",
      "metadata": {
        "id": "YFgl0HrPAkj4"
      },
      "source": [
        "## Optional Enhancements\n",
        "\n",
        "This project focuses on learning various network architectures for machine translation, but we don't evaluate the models according to best practices by splitting the data into separate test & training sets -- so the model accuracy is overstated. Use the [`sklearn.model_selection.train_test_split()`](http://scikit-learn.org/stable/modules/generated/sklearn.model_selection.train_test_split.html) function to create separate training & test datasets, then retrain each of the models using only the training set and evaluate the prediction accuracy using the hold out test set. Does the \"best\" model change?"
      ]
    },
    {
      "cell_type": "markdown",
      "metadata": {
        "id": "GYLZdupy0BDo"
      },
      "source": [
        "# Push code to Github"
      ]
    },
    {
      "cell_type": "code",
      "metadata": {
        "id": "K1sRGdseAkj4",
        "outputId": "c16ed4d9-4466-48e1-c79e-c32d0f8f289f",
        "colab": {
          "base_uri": "https://localhost:8080/"
        }
      },
      "source": [
        "%%bash \n",
        "cd drive/MyDrive/QuechuaProject/\n",
        "#git clone https://github.com/florenciopaucar/machine_translation_quechua.git\n",
        "cd machine_translation_quechua\n",
        "git checkout dev\n",
        "git status\n",
        "git config --global user.email \"florenciopaucar@gmail.com\"\n",
        "git config --global user.name \"florenciopaucar\"\n",
        "git add .\n",
        "git commit -m \"Adapted code to colab\"\n",
        "git push\n",
        "git status\n"
      ],
      "execution_count": 77,
      "outputs": [
        {
          "output_type": "stream",
          "text": [
            "Your branch is ahead of 'origin/dev' by 1 commit.\n",
            "  (use \"git push\" to publish your local commits)\n",
            "On branch dev\n",
            "Your branch is ahead of 'origin/dev' by 1 commit.\n",
            "  (use \"git push\" to publish your local commits)\n",
            "\n",
            "nothing to commit, working tree clean\n",
            "On branch dev\n",
            "Your branch is ahead of 'origin/dev' by 1 commit.\n",
            "  (use \"git push\" to publish your local commits)\n",
            "\n",
            "nothing to commit, working tree clean\n",
            "On branch dev\n",
            "Your branch is ahead of 'origin/dev' by 1 commit.\n",
            "  (use \"git push\" to publish your local commits)\n",
            "\n",
            "nothing to commit, working tree clean\n"
          ],
          "name": "stdout"
        },
        {
          "output_type": "stream",
          "text": [
            "Already on 'dev'\n",
            "fatal: could not read Username for 'https://github.com': No such device or address\n"
          ],
          "name": "stderr"
        }
      ]
    },
    {
      "cell_type": "code",
      "metadata": {
        "id": "qrqJyzoF0fGM"
      },
      "source": [
        ""
      ],
      "execution_count": null,
      "outputs": []
    }
  ]
}